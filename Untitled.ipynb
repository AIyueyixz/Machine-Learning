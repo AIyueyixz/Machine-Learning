{
 "cells": [
  {
   "cell_type": "markdown",
   "id": "c0619963",
   "metadata": {},
   "source": [
    "# 分类问题-逻辑回归"
   ]
  },
  {
   "cell_type": "code",
   "execution_count": null,
   "id": "4ad86410",
   "metadata": {},
   "outputs": [],
   "source": [
    "#单分类\n",
    "#多分类 "
   ]
  }
 ],
 "metadata": {
  "kernelspec": {
   "display_name": "Python 3 (ipykernel)",
   "language": "python",
   "name": "python3"
  },
  "language_info": {
   "codemirror_mode": {
    "name": "ipython",
    "version": 3
   },
   "file_extension": ".py",
   "mimetype": "text/x-python",
   "name": "python",
   "nbconvert_exporter": "python",
   "pygments_lexer": "ipython3",
   "version": "3.11.3"
  }
 },
 "nbformat": 4,
 "nbformat_minor": 5
}
