{
 "cells": [
  {
   "cell_type": "markdown",
   "id": "c0619963",
   "metadata": {},
   "source": [
    "# 花品种分类问题-逻辑回归"
   ]
  },
  {
   "cell_type": "markdown",
   "id": "28f98cc4",
   "metadata": {},
   "source": [
    "在这一次练习中,我们将要实现逻辑回归并且应用到一个分类问题，我们将把正则化方法加入训练算法中，增强算法的鲁棒性，并通过更复杂的情形来测试它"
   ]
  },
  {
   "cell_type": "markdown",
   "id": "64916de8",
   "metadata": {},
   "source": [
    "# 逻辑回归"
   ]
  },
  {
   "cell_type": "markdown",
   "id": "1582a140",
   "metadata": {},
   "source": [
    "   在训练的初始阶段，我们将要构建一个逻辑回归模型来预测，某个采集样本属于0类，1类（0 代表山鸢尾1 代表变色鸢尾）。设想你是采集员，想通过花瓣宽度和花瓣长度来决定它是0类还是1类。\n",
    "现在你拥有一些样本的数据，可作为逻辑回归的训练集。对于每一个训练样本，你拥有包括花瓣宽度花瓣长度以及所属类别的信息。为了完成这个预测任务，我们准备构建一个可以基于花瓣宽度和花瓣长度来评估所属类别可能性的分类模型"
   ]
  },
  {
   "cell_type": "code",
   "execution_count": 107,
   "id": "a119cecb",
   "metadata": {},
   "outputs": [],
   "source": [
    "import numpy as np\n",
    "import pandas as pd\n",
    "import matplotlib.pyplot as plt\n",
    "from sklearn.datasets import load_iris\n",
    "from sklearn.model_selection import train_test_split\n",
    "from sklearn.metrics import classification_report #生成报告"
   ]
  },
  {
   "cell_type": "code",
   "execution_count": 108,
   "id": "e0a247ea",
   "metadata": {},
   "outputs": [],
   "source": [
    "plt.rcParams['font.sans-serif']=['SimHei'] #用来正常显示中文标签\n",
    "plt.rcParams['axes.unicode_minus']=False #用来正常显示负号"
   ]
  },
  {
   "cell_type": "code",
   "execution_count": 109,
   "id": "8ae26c4c",
   "metadata": {},
   "outputs": [
    {
     "data": {
      "text/html": [
       "<div>\n",
       "<style scoped>\n",
       "    .dataframe tbody tr th:only-of-type {\n",
       "        vertical-align: middle;\n",
       "    }\n",
       "\n",
       "    .dataframe tbody tr th {\n",
       "        vertical-align: top;\n",
       "    }\n",
       "\n",
       "    .dataframe thead th {\n",
       "        text-align: right;\n",
       "    }\n",
       "</style>\n",
       "<table border=\"1\" class=\"dataframe\">\n",
       "  <thead>\n",
       "    <tr style=\"text-align: right;\">\n",
       "      <th></th>\n",
       "      <th>sepal length (cm)</th>\n",
       "      <th>sepal width (cm)</th>\n",
       "      <th>petal length (cm)</th>\n",
       "      <th>petal width (cm)</th>\n",
       "      <th>target</th>\n",
       "    </tr>\n",
       "  </thead>\n",
       "  <tbody>\n",
       "    <tr>\n",
       "      <th>0</th>\n",
       "      <td>5.1</td>\n",
       "      <td>3.5</td>\n",
       "      <td>1.4</td>\n",
       "      <td>0.2</td>\n",
       "      <td>0</td>\n",
       "    </tr>\n",
       "    <tr>\n",
       "      <th>1</th>\n",
       "      <td>4.9</td>\n",
       "      <td>3.0</td>\n",
       "      <td>1.4</td>\n",
       "      <td>0.2</td>\n",
       "      <td>0</td>\n",
       "    </tr>\n",
       "    <tr>\n",
       "      <th>2</th>\n",
       "      <td>4.7</td>\n",
       "      <td>3.2</td>\n",
       "      <td>1.3</td>\n",
       "      <td>0.2</td>\n",
       "      <td>0</td>\n",
       "    </tr>\n",
       "    <tr>\n",
       "      <th>3</th>\n",
       "      <td>4.6</td>\n",
       "      <td>3.1</td>\n",
       "      <td>1.5</td>\n",
       "      <td>0.2</td>\n",
       "      <td>0</td>\n",
       "    </tr>\n",
       "    <tr>\n",
       "      <th>4</th>\n",
       "      <td>5.0</td>\n",
       "      <td>3.6</td>\n",
       "      <td>1.4</td>\n",
       "      <td>0.2</td>\n",
       "      <td>0</td>\n",
       "    </tr>\n",
       "    <tr>\n",
       "      <th>...</th>\n",
       "      <td>...</td>\n",
       "      <td>...</td>\n",
       "      <td>...</td>\n",
       "      <td>...</td>\n",
       "      <td>...</td>\n",
       "    </tr>\n",
       "    <tr>\n",
       "      <th>95</th>\n",
       "      <td>5.7</td>\n",
       "      <td>3.0</td>\n",
       "      <td>4.2</td>\n",
       "      <td>1.2</td>\n",
       "      <td>1</td>\n",
       "    </tr>\n",
       "    <tr>\n",
       "      <th>96</th>\n",
       "      <td>5.7</td>\n",
       "      <td>2.9</td>\n",
       "      <td>4.2</td>\n",
       "      <td>1.3</td>\n",
       "      <td>1</td>\n",
       "    </tr>\n",
       "    <tr>\n",
       "      <th>97</th>\n",
       "      <td>6.2</td>\n",
       "      <td>2.9</td>\n",
       "      <td>4.3</td>\n",
       "      <td>1.3</td>\n",
       "      <td>1</td>\n",
       "    </tr>\n",
       "    <tr>\n",
       "      <th>98</th>\n",
       "      <td>5.1</td>\n",
       "      <td>2.5</td>\n",
       "      <td>3.0</td>\n",
       "      <td>1.1</td>\n",
       "      <td>1</td>\n",
       "    </tr>\n",
       "    <tr>\n",
       "      <th>99</th>\n",
       "      <td>5.7</td>\n",
       "      <td>2.8</td>\n",
       "      <td>4.1</td>\n",
       "      <td>1.3</td>\n",
       "      <td>1</td>\n",
       "    </tr>\n",
       "  </tbody>\n",
       "</table>\n",
       "<p>100 rows × 5 columns</p>\n",
       "</div>"
      ],
      "text/plain": [
       "    sepal length (cm)  sepal width (cm)  petal length (cm)  petal width (cm)  \\\n",
       "0                 5.1               3.5                1.4               0.2   \n",
       "1                 4.9               3.0                1.4               0.2   \n",
       "2                 4.7               3.2                1.3               0.2   \n",
       "3                 4.6               3.1                1.5               0.2   \n",
       "4                 5.0               3.6                1.4               0.2   \n",
       "..                ...               ...                ...               ...   \n",
       "95                5.7               3.0                4.2               1.2   \n",
       "96                5.7               2.9                4.2               1.3   \n",
       "97                6.2               2.9                4.3               1.3   \n",
       "98                5.1               2.5                3.0               1.1   \n",
       "99                5.7               2.8                4.1               1.3   \n",
       "\n",
       "    target  \n",
       "0        0  \n",
       "1        0  \n",
       "2        0  \n",
       "3        0  \n",
       "4        0  \n",
       "..     ...  \n",
       "95       1  \n",
       "96       1  \n",
       "97       1  \n",
       "98       1  \n",
       "99       1  \n",
       "\n",
       "[100 rows x 5 columns]"
      ]
     },
     "execution_count": 109,
     "metadata": {},
     "output_type": "execute_result"
    }
   ],
   "source": [
    "iris_dataset = load_iris()\n",
    "df = pd.DataFrame(iris_dataset.data, columns=iris_dataset.feature_names)\n",
    "df['target'] = iris_dataset.target\n",
    "mask=df['target']!=2\n",
    "df=df[mask]\n",
    "df"
   ]
  },
  {
   "cell_type": "code",
   "execution_count": 110,
   "id": "be021195",
   "metadata": {},
   "outputs": [
    {
     "data": {
      "text/plain": [
       "(100, 5)"
      ]
     },
     "execution_count": 110,
     "metadata": {},
     "output_type": "execute_result"
    }
   ],
   "source": [
    "df.shape"
   ]
  },
  {
   "cell_type": "code",
   "execution_count": 111,
   "id": "03c139e5",
   "metadata": {},
   "outputs": [
    {
     "data": {
      "text/html": [
       "<div>\n",
       "<style scoped>\n",
       "    .dataframe tbody tr th:only-of-type {\n",
       "        vertical-align: middle;\n",
       "    }\n",
       "\n",
       "    .dataframe tbody tr th {\n",
       "        vertical-align: top;\n",
       "    }\n",
       "\n",
       "    .dataframe thead th {\n",
       "        text-align: right;\n",
       "    }\n",
       "</style>\n",
       "<table border=\"1\" class=\"dataframe\">\n",
       "  <thead>\n",
       "    <tr style=\"text-align: right;\">\n",
       "      <th></th>\n",
       "      <th>sepal length (cm)</th>\n",
       "      <th>sepal width (cm)</th>\n",
       "      <th>petal length (cm)</th>\n",
       "      <th>petal width (cm)</th>\n",
       "      <th>target</th>\n",
       "    </tr>\n",
       "  </thead>\n",
       "  <tbody>\n",
       "    <tr>\n",
       "      <th>count</th>\n",
       "      <td>100.000000</td>\n",
       "      <td>100.000000</td>\n",
       "      <td>100.000000</td>\n",
       "      <td>100.000000</td>\n",
       "      <td>100.000000</td>\n",
       "    </tr>\n",
       "    <tr>\n",
       "      <th>mean</th>\n",
       "      <td>5.471000</td>\n",
       "      <td>3.099000</td>\n",
       "      <td>2.861000</td>\n",
       "      <td>0.786000</td>\n",
       "      <td>0.500000</td>\n",
       "    </tr>\n",
       "    <tr>\n",
       "      <th>std</th>\n",
       "      <td>0.641698</td>\n",
       "      <td>0.478739</td>\n",
       "      <td>1.449549</td>\n",
       "      <td>0.565153</td>\n",
       "      <td>0.502519</td>\n",
       "    </tr>\n",
       "    <tr>\n",
       "      <th>min</th>\n",
       "      <td>4.300000</td>\n",
       "      <td>2.000000</td>\n",
       "      <td>1.000000</td>\n",
       "      <td>0.100000</td>\n",
       "      <td>0.000000</td>\n",
       "    </tr>\n",
       "    <tr>\n",
       "      <th>25%</th>\n",
       "      <td>5.000000</td>\n",
       "      <td>2.800000</td>\n",
       "      <td>1.500000</td>\n",
       "      <td>0.200000</td>\n",
       "      <td>0.000000</td>\n",
       "    </tr>\n",
       "    <tr>\n",
       "      <th>50%</th>\n",
       "      <td>5.400000</td>\n",
       "      <td>3.050000</td>\n",
       "      <td>2.450000</td>\n",
       "      <td>0.800000</td>\n",
       "      <td>0.500000</td>\n",
       "    </tr>\n",
       "    <tr>\n",
       "      <th>75%</th>\n",
       "      <td>5.900000</td>\n",
       "      <td>3.400000</td>\n",
       "      <td>4.325000</td>\n",
       "      <td>1.300000</td>\n",
       "      <td>1.000000</td>\n",
       "    </tr>\n",
       "    <tr>\n",
       "      <th>max</th>\n",
       "      <td>7.000000</td>\n",
       "      <td>4.400000</td>\n",
       "      <td>5.100000</td>\n",
       "      <td>1.800000</td>\n",
       "      <td>1.000000</td>\n",
       "    </tr>\n",
       "  </tbody>\n",
       "</table>\n",
       "</div>"
      ],
      "text/plain": [
       "       sepal length (cm)  sepal width (cm)  petal length (cm)  \\\n",
       "count         100.000000        100.000000         100.000000   \n",
       "mean            5.471000          3.099000           2.861000   \n",
       "std             0.641698          0.478739           1.449549   \n",
       "min             4.300000          2.000000           1.000000   \n",
       "25%             5.000000          2.800000           1.500000   \n",
       "50%             5.400000          3.050000           2.450000   \n",
       "75%             5.900000          3.400000           4.325000   \n",
       "max             7.000000          4.400000           5.100000   \n",
       "\n",
       "       petal width (cm)      target  \n",
       "count        100.000000  100.000000  \n",
       "mean           0.786000    0.500000  \n",
       "std            0.565153    0.502519  \n",
       "min            0.100000    0.000000  \n",
       "25%            0.200000    0.000000  \n",
       "50%            0.800000    0.500000  \n",
       "75%            1.300000    1.000000  \n",
       "max            1.800000    1.000000  "
      ]
     },
     "execution_count": 111,
     "metadata": {},
     "output_type": "execute_result"
    }
   ],
   "source": [
    "df.describe()"
   ]
  },
  {
   "cell_type": "markdown",
   "id": "3c753976",
   "metadata": {},
   "source": [
    "定义训练集和测试集"
   ]
  },
  {
   "cell_type": "code",
   "execution_count": 112,
   "id": "9d851722",
   "metadata": {},
   "outputs": [
    {
     "data": {
      "text/html": [
       "<div>\n",
       "<style scoped>\n",
       "    .dataframe tbody tr th:only-of-type {\n",
       "        vertical-align: middle;\n",
       "    }\n",
       "\n",
       "    .dataframe tbody tr th {\n",
       "        vertical-align: top;\n",
       "    }\n",
       "\n",
       "    .dataframe thead th {\n",
       "        text-align: right;\n",
       "    }\n",
       "</style>\n",
       "<table border=\"1\" class=\"dataframe\">\n",
       "  <thead>\n",
       "    <tr style=\"text-align: right;\">\n",
       "      <th></th>\n",
       "      <th>petal length (cm)</th>\n",
       "      <th>petal width (cm)</th>\n",
       "      <th>target</th>\n",
       "    </tr>\n",
       "  </thead>\n",
       "  <tbody>\n",
       "    <tr>\n",
       "      <th>48</th>\n",
       "      <td>1.5</td>\n",
       "      <td>0.2</td>\n",
       "      <td>0</td>\n",
       "    </tr>\n",
       "    <tr>\n",
       "      <th>6</th>\n",
       "      <td>1.4</td>\n",
       "      <td>0.3</td>\n",
       "      <td>0</td>\n",
       "    </tr>\n",
       "    <tr>\n",
       "      <th>99</th>\n",
       "      <td>4.1</td>\n",
       "      <td>1.3</td>\n",
       "      <td>1</td>\n",
       "    </tr>\n",
       "    <tr>\n",
       "      <th>82</th>\n",
       "      <td>3.9</td>\n",
       "      <td>1.2</td>\n",
       "      <td>1</td>\n",
       "    </tr>\n",
       "    <tr>\n",
       "      <th>76</th>\n",
       "      <td>4.8</td>\n",
       "      <td>1.4</td>\n",
       "      <td>1</td>\n",
       "    </tr>\n",
       "    <tr>\n",
       "      <th>...</th>\n",
       "      <td>...</td>\n",
       "      <td>...</td>\n",
       "      <td>...</td>\n",
       "    </tr>\n",
       "    <tr>\n",
       "      <th>96</th>\n",
       "      <td>4.2</td>\n",
       "      <td>1.3</td>\n",
       "      <td>1</td>\n",
       "    </tr>\n",
       "    <tr>\n",
       "      <th>67</th>\n",
       "      <td>4.1</td>\n",
       "      <td>1.0</td>\n",
       "      <td>1</td>\n",
       "    </tr>\n",
       "    <tr>\n",
       "      <th>64</th>\n",
       "      <td>3.6</td>\n",
       "      <td>1.3</td>\n",
       "      <td>1</td>\n",
       "    </tr>\n",
       "    <tr>\n",
       "      <th>47</th>\n",
       "      <td>1.4</td>\n",
       "      <td>0.2</td>\n",
       "      <td>0</td>\n",
       "    </tr>\n",
       "    <tr>\n",
       "      <th>44</th>\n",
       "      <td>1.9</td>\n",
       "      <td>0.4</td>\n",
       "      <td>0</td>\n",
       "    </tr>\n",
       "  </tbody>\n",
       "</table>\n",
       "<p>75 rows × 3 columns</p>\n",
       "</div>"
      ],
      "text/plain": [
       "    petal length (cm)  petal width (cm)  target\n",
       "48                1.5               0.2       0\n",
       "6                 1.4               0.3       0\n",
       "99                4.1               1.3       1\n",
       "82                3.9               1.2       1\n",
       "76                4.8               1.4       1\n",
       "..                ...               ...     ...\n",
       "96                4.2               1.3       1\n",
       "67                4.1               1.0       1\n",
       "64                3.6               1.3       1\n",
       "47                1.4               0.2       0\n",
       "44                1.9               0.4       0\n",
       "\n",
       "[75 rows x 3 columns]"
      ]
     },
     "execution_count": 112,
     "metadata": {},
     "output_type": "execute_result"
    }
   ],
   "source": [
    "X = df[['petal length (cm)', 'petal width (cm)']]  # 特征数据\n",
    "y = df[['target']] # 目标标签\n",
    "X_train, X_test, y_train, y_test = train_test_split(X,y,random_state=0)\n",
    "X_train= pd.concat([X_train, y_train],axis=1)\n",
    "X_test= pd.concat([X_test, y_test],axis=1)\n",
    "X_train"
   ]
  },
  {
   "cell_type": "markdown",
   "id": "61ae28f7",
   "metadata": {},
   "source": [
    "让我们创建两品种的散点图，并使用不同颜色来标识"
   ]
  },
  {
   "cell_type": "code",
   "execution_count": 113,
   "id": "b79c2eb1",
   "metadata": {},
   "outputs": [
    {
     "data": {
      "image/png": "[encoded data removed]",
      "text/plain": [
       "<Figure size 500x500 with 1 Axes>"
      ]
     },
     "metadata": {},
     "output_type": "display_data"
    }
   ],
   "source": [
    "type0=df[df['target'].isin([0])]\n",
    "type1=df[df['target'].isin([1])]\n",
    "fig,ax=plt.subplots(figsize=(5,5))\n",
    "ax.scatter(type0['petal length (cm)'],\n",
    "          type0['petal width (cm)'],\n",
    "          s=50,\n",
    "          c='b',\n",
    "          marker='o',\n",
    "          label='山鸢尾')\n",
    "ax.scatter(type1['petal length (cm)'],\n",
    "          type1['petal width (cm)'],\n",
    "          s=50,\n",
    "          c='r',\n",
    "          marker='x',\n",
    "          label='变色鸢尾')\n",
    "ax.legend()\n",
    "ax.set_xlabel('花瓣长度')\n",
    "ax.set_ylabel('花瓣宽度')\n",
    "plt.show()"
   ]
  },
  {
   "cell_type": "markdown",
   "id": "dbf2947c",
   "metadata": {},
   "source": [
    "看起来两类之间确实有一个清晰的决策边界，所以可以用逻辑回归来进行模型构建"
   ]
  },
  {
   "cell_type": "markdown",
   "id": "dec8d807",
   "metadata": {},
   "source": [
    "# Sigmoid函数"
   ]
  },
  {
   "cell_type": "code",
   "execution_count": 114,
   "id": "427ad241",
   "metadata": {},
   "outputs": [],
   "source": [
    "def sigmoid(z):\n",
    "    return 1 / (1 + np.exp(-z))"
   ]
  },
  {
   "cell_type": "markdown",
   "id": "67d8f965",
   "metadata": {},
   "source": [
    "让我们画出它的图形"
   ]
  },
  {
   "cell_type": "code",
   "execution_count": 115,
   "id": "16ebad6a",
   "metadata": {},
   "outputs": [
    {
     "data": {
      "image/png": "[encoded data removed]",
      "text/plain": [
       "<Figure size 500x500 with 1 Axes>"
      ]
     },
     "metadata": {},
     "output_type": "display_data"
    }
   ],
   "source": [
    "nums=np.arange(-10,10,step=1)\n",
    "fig,ax=plt.subplots(figsize=(5,5))\n",
    "ax.plot(nums,sigmoid(nums),'r')\n",
    "plt.xlabel('x',fontsize=12,horizontalalignment='right',x=1)\n",
    "plt.ylabel('Sigmoid(x)',rotation=0,verticalalignment='top',y=0.9)\n",
    "plt.show()\n"
   ]
  },
  {
   "cell_type": "markdown",
   "id": "1da751a9",
   "metadata": {},
   "source": [
    "现在，我们需要编写代价函数来评估结果。"
   ]
  },
  {
   "cell_type": "code",
   "execution_count": 116,
   "id": "80a9ae39",
   "metadata": {},
   "outputs": [],
   "source": [
    "def cost(w, X, y):\n",
    "    w = np.matrix(w)\n",
    "    X = np.matrix(X)\n",
    "    y = np.matrix(y)\n",
    "    first = np.multiply(-y, np.log(sigmoid(X * w.T)))\n",
    "    second = np.multiply((1 - y), np.log(1 - sigmoid(X * w.T)))\n",
    "    return np.sum(first - second) / (len(X))"
   ]
  },
  {
   "cell_type": "markdown",
   "id": "257714a9",
   "metadata": {},
   "source": [
    "现在我们做一些设置"
   ]
  },
  {
   "cell_type": "code",
   "execution_count": 117,
   "id": "88ccb2a5",
   "metadata": {},
   "outputs": [],
   "source": [
    "# 训练集\n",
    "X_train.insert(0,'Ones',1)\n",
    "cols=X_train.shape[1]\n",
    "X=X_train.iloc[:,0:cols-1]\n",
    "y=X_train.iloc[:,cols-1:cols]\n",
    "X=np.array(X.values)\n",
    "y=np.array(y.values)\n",
    "w=np.zeros(3)\n",
    "#测试集\n",
    "X_test.insert(0,'Ones',1)\n",
    "cols1=X_test.shape[1]\n",
    "Xt=X_test.iloc[:,0:cols1-1]\n",
    "yt=X_test.iloc[:,cols1-1:cols1]\n",
    "Xt=np.array(Xt.values)\n",
    "yt=np.array(yt.values)"
   ]
  },
  {
   "cell_type": "markdown",
   "id": "226f6fdc",
   "metadata": {},
   "source": [
    "检查矩阵维度"
   ]
  },
  {
   "cell_type": "code",
   "execution_count": 118,
   "id": "802ef474",
   "metadata": {},
   "outputs": [
    {
     "data": {
      "text/plain": [
       "((75, 3), (3,), (75, 1))"
      ]
     },
     "execution_count": 118,
     "metadata": {},
     "output_type": "execute_result"
    }
   ],
   "source": [
    "X.shape,w.shape,y.shape"
   ]
  },
  {
   "cell_type": "code",
   "execution_count": 119,
   "id": "1c8e71c5",
   "metadata": {},
   "outputs": [
    {
     "data": {
      "text/plain": [
       "0.6931471805599454"
      ]
     },
     "execution_count": 119,
     "metadata": {},
     "output_type": "execute_result"
    }
   ],
   "source": [
    "cost(w,X,y)"
   ]
  },
  {
   "cell_type": "markdown",
   "id": "9db26126",
   "metadata": {},
   "source": [
    "# gradient descent(梯度下降)\n",
    "* 这是批量梯度下降（batch gradient descent）  \n",
    "* 转化为向量化计算： $\\frac{1}{m} X^T( Sigmoid(XW) - y )$\n",
    "$$\\frac{\\partial J\\left( w  \\right)}{\\partial {{w }_{j}}}=\\frac{1}{m}\\sum\\limits_{i=1}^{m}{({{h}}\\left( {{x}^{(i)}} \\right)-{{y}^{(i)}})x_{_{j}}^{(i)}}$$"
   ]
  },
  {
   "cell_type": "code",
   "execution_count": 120,
   "id": "17bd2c07",
   "metadata": {},
   "outputs": [],
   "source": [
    "def gradient(w, X, y):\n",
    "    w = np.matrix(w)\n",
    "    X = np.matrix(X)\n",
    "    y = np.matrix(y)\n",
    "\n",
    "    parameters = int(w.ravel().shape[1])\n",
    "    grad = np.zeros(parameters)\n",
    "\n",
    "    error = sigmoid(X * w.T) - y\n",
    "\n",
    "    for i in range(parameters):\n",
    "        term = np.multiply(error, X[:, i])\n",
    "        grad[i] = np.sum(term) / len(X)\n",
    "\n",
    "    return grad"
   ]
  },
  {
   "cell_type": "markdown",
   "id": "44200752",
   "metadata": {},
   "source": [
    "以上函数并未执行梯度下降，我们仅仅在计算一个梯度步长。在练习中，我们可以用SciPy完成同样的事情"
   ]
  },
  {
   "cell_type": "markdown",
   "id": "d3f66023",
   "metadata": {},
   "source": [
    "我们用上述函数对我们的数据和初始参数为0进行梯度下降的结果"
   ]
  },
  {
   "cell_type": "code",
   "execution_count": 121,
   "id": "306f073e",
   "metadata": {},
   "outputs": [
    {
     "data": {
      "text/plain": [
       "array([-0.00666667, -0.71733333, -0.28      ])"
      ]
     },
     "execution_count": 121,
     "metadata": {},
     "output_type": "execute_result"
    }
   ],
   "source": [
    "gradient(w,X,y)"
   ]
  },
  {
   "cell_type": "markdown",
   "id": "92610a3e",
   "metadata": {},
   "source": [
    "现在用SciPy库(TNC)寻找最优参数"
   ]
  },
  {
   "cell_type": "code",
   "execution_count": 122,
   "id": "736be28e",
   "metadata": {
    "scrolled": true
   },
   "outputs": [
    {
     "name": "stderr",
     "output_type": "stream",
     "text": [
      "C:\\Users\\user\\AppData\\Local\\Temp\\ipykernel_13532\\3724337802.py:6: RuntimeWarning: divide by zero encountered in log\n",
      "  second = np.multiply((1 - y), np.log(1 - sigmoid(X * w.T)))\n",
      "C:\\Users\\user\\AppData\\Local\\Temp\\ipykernel_13532\\3724337802.py:6: RuntimeWarning: invalid value encountered in multiply\n",
      "  second = np.multiply((1 - y), np.log(1 - sigmoid(X * w.T)))\n"
     ]
    },
    {
     "data": {
      "text/plain": [
       "(array([-32.95980059,   8.78761053,  15.15208719]), 67, 0)"
      ]
     },
     "execution_count": 122,
     "metadata": {},
     "output_type": "execute_result"
    }
   ],
   "source": [
    "import scipy.optimize as opt\n",
    "result = opt.fmin_tnc(func=cost, x0=w, fprime=gradient, args=(X, y))\n",
    "result"
   ]
  },
  {
   "cell_type": "code",
   "execution_count": 123,
   "id": "dd22d3ae",
   "metadata": {},
   "outputs": [
    {
     "data": {
      "text/plain": [
       "1.8727492113100926e-06"
      ]
     },
     "execution_count": 123,
     "metadata": {},
     "output_type": "execute_result"
    }
   ],
   "source": [
    "cost(result[0], X, y)"
   ]
  },
  {
   "cell_type": "markdown",
   "id": "f15432d0",
   "metadata": {},
   "source": [
    "接下来，我们需要编写一个函数，用我们所学的参数w来为数据集X输出预测。然后，我们可以使用这个函数来给我们的分类器的训练精度打分。\n",
    "逻辑回归模型的假设函数： \n",
    "\t\\\\[{{h}}\\left( x \\right)=\\frac{1}{1+{{e}^{-{{w }^{T}}X}}}\\\\] \n",
    "当${{h}}$大于等于0.5时，预测 y=1\n",
    "\n",
    "当${{h}}$小于0.5时，预测 y=0 。"
   ]
  },
  {
   "cell_type": "code",
   "execution_count": 124,
   "id": "35bd94fb",
   "metadata": {},
   "outputs": [],
   "source": [
    "def predict(w, X):\n",
    "    probability = sigmoid(X * w.T)\n",
    "    return [1 if x >= 0.5 else 0 for x in probability]"
   ]
  },
  {
   "cell_type": "code",
   "execution_count": 125,
   "id": "ea70f5b4",
   "metadata": {},
   "outputs": [
    {
     "name": "stdout",
     "output_type": "stream",
     "text": [
      "accuracy = 100%\n"
     ]
    }
   ],
   "source": [
    "w_min = np.matrix(result[0])\n",
    "predictions = predict(w_min, Xt)\n",
    "correct = [\n",
    "    1 if ((a == 1 and b == 1) or (a == 0 and b == 0)) else 0\n",
    "    for (a, b) in zip(predictions, yt)\n",
    "]\n",
    "accuracy = (sum(map(int, correct)) / len(correct))\n",
    "print('accuracy = {:.0%}'.format(accuracy))"
   ]
  },
  {
   "cell_type": "markdown",
   "id": "ef0be992",
   "metadata": {},
   "source": [
    "下面我们将训练集和测试集以及决策边界画在同一幅图中，验证准确率是否为100%"
   ]
  },
  {
   "cell_type": "code",
   "execution_count": 126,
   "id": "dea64554",
   "metadata": {},
   "outputs": [
    {
     "data": {
      "image/png": "[encoded data removed]",
      "text/plain": [
       "<Figure size 500x500 with 1 Axes>"
      ]
     },
     "metadata": {},
     "output_type": "display_data"
    }
   ],
   "source": [
    "# 将训练集画在图中,散点颜色较浅\n",
    "type0=X_train[X_train['target'].isin([0])]\n",
    "type1=X_train[X_train['target'].isin([1])]\n",
    "fig,ax=plt.subplots(figsize=(5,5))\n",
    "ax.scatter(type0['petal length (cm)'],\n",
    "          type0['petal width (cm)'],\n",
    "          s=50,\n",
    "          c='b',\n",
    "          alpha=0.2,\n",
    "          marker='o',\n",
    "          label='山鸢尾')\n",
    "ax.scatter(type1['petal length (cm)'],\n",
    "          type1['petal width (cm)'],\n",
    "          s=50,\n",
    "          c='r',\n",
    "          alpha=0.2,\n",
    "          marker='x',\n",
    "          label='变色鸢尾')\n",
    "ax.legend()\n",
    "ax.set_xlabel('花瓣长度')\n",
    "ax.set_ylabel('花瓣宽度')\n",
    "# 将测试集画在图中，散点颜色较深\n",
    "typet0=X_test[X_test['target'].isin([0])]\n",
    "typet1=X_test[X_test['target'].isin([1])]\n",
    "ax.scatter(typet0['petal length (cm)'],\n",
    "          typet0['petal width (cm)'],\n",
    "          s=50,\n",
    "          c='b',\n",
    "          marker='o',)\n",
    "ax.scatter(typet1['petal length (cm)'],\n",
    "          typet1['petal width (cm)'],\n",
    "          s=50,\n",
    "          c='r',\n",
    "          marker='x',)\n",
    "# 将决策界限画到图中\n",
    "coef = -(result[0] / result[0][2])   #决策边界方程系数\n",
    "xt = np.arange(3.7 ,step=0.1)\n",
    "yt = coef[1] * xt + coef[0]\n",
    "plt.plot(xt, yt,'purple')\n",
    "plt.show()"
   ]
  },
  {
   "cell_type": "markdown",
   "id": "8d8ffbe5",
   "metadata": {},
   "source": [
    "成功验证！看上去效果还不错！！"
   ]
  },
  {
   "cell_type": "markdown",
   "id": "a0a6b1f8",
   "metadata": {},
   "source": [
    "# 正则化逻辑回归"
   ]
  },
  {
   "cell_type": "markdown",
   "id": "22753eed",
   "metadata": {},
   "source": [
    "接下来，我们将在逻辑回归算法中加入正则化。正则化简而言之就是使得模型参数更小，有助于减少过拟合，提高模型泛化能力。"
   ]
  },
  {
   "cell_type": "markdown",
   "id": "34ad3063",
   "metadata": {},
   "source": [
    "设想你是工厂的生产主管，你有一些芯片在两次测试中的测试结果。对于这两次测试，你想决定是否芯片要被接受或抛弃。为了帮助你做出艰难的决定，你拥有过去芯片的测试数据集，从其中你可以构建一个逻辑回归模型。"
   ]
  },
  {
   "cell_type": "markdown",
   "id": "e98f1234",
   "metadata": {},
   "source": [
    "和上面的问题相同，都是一个分类问题，我们先从可视化开始！"
   ]
  },
  {
   "cell_type": "code",
   "execution_count": 127,
   "id": "0c16a0b4",
   "metadata": {},
   "outputs": [
    {
     "data": {
      "text/html": [
       "<div>\n",
       "<style scoped>\n",
       "    .dataframe tbody tr th:only-of-type {\n",
       "        vertical-align: middle;\n",
       "    }\n",
       "\n",
       "    .dataframe tbody tr th {\n",
       "        vertical-align: top;\n",
       "    }\n",
       "\n",
       "    .dataframe thead th {\n",
       "        text-align: right;\n",
       "    }\n",
       "</style>\n",
       "<table border=\"1\" class=\"dataframe\">\n",
       "  <thead>\n",
       "    <tr style=\"text-align: right;\">\n",
       "      <th></th>\n",
       "      <th>test1</th>\n",
       "      <th>test2</th>\n",
       "      <th>accepted</th>\n",
       "    </tr>\n",
       "  </thead>\n",
       "  <tbody>\n",
       "    <tr>\n",
       "      <th>0</th>\n",
       "      <td>0.051267</td>\n",
       "      <td>0.69956</td>\n",
       "      <td>1</td>\n",
       "    </tr>\n",
       "    <tr>\n",
       "      <th>1</th>\n",
       "      <td>-0.092742</td>\n",
       "      <td>0.68494</td>\n",
       "      <td>1</td>\n",
       "    </tr>\n",
       "    <tr>\n",
       "      <th>2</th>\n",
       "      <td>-0.213710</td>\n",
       "      <td>0.69225</td>\n",
       "      <td>1</td>\n",
       "    </tr>\n",
       "    <tr>\n",
       "      <th>3</th>\n",
       "      <td>-0.375000</td>\n",
       "      <td>0.50219</td>\n",
       "      <td>1</td>\n",
       "    </tr>\n",
       "    <tr>\n",
       "      <th>4</th>\n",
       "      <td>-0.513250</td>\n",
       "      <td>0.46564</td>\n",
       "      <td>1</td>\n",
       "    </tr>\n",
       "  </tbody>\n",
       "</table>\n",
       "</div>"
      ],
      "text/plain": [
       "      test1    test2  accepted\n",
       "0  0.051267  0.69956         1\n",
       "1 -0.092742  0.68494         1\n",
       "2 -0.213710  0.69225         1\n",
       "3 -0.375000  0.50219         1\n",
       "4 -0.513250  0.46564         1"
      ]
     },
     "execution_count": 127,
     "metadata": {},
     "output_type": "execute_result"
    }
   ],
   "source": [
    "path = '芯片测试.txt'\n",
    "data2 = pd.read_csv(path, header=None, names=['test1', 'test2', 'accepted'])\n",
    "data2.head()"
   ]
  },
  {
   "cell_type": "markdown",
   "id": "707c9af8",
   "metadata": {},
   "source": [
    "绘制散点图"
   ]
  },
  {
   "cell_type": "code",
   "execution_count": 128,
   "id": "9134db50",
   "metadata": {},
   "outputs": [
    {
     "data": {
      "image/png": "[encoded data removed]",
      "text/plain": [
       "<Figure size 1200x800 with 1 Axes>"
      ]
     },
     "metadata": {},
     "output_type": "display_data"
    }
   ],
   "source": [
    "positive2 = data2[data2['accepted'].isin([1])]\n",
    "negative2 = data2[data2['accepted'].isin([0])]\n",
    "\n",
    "fig = plt.figure(figsize=(12,8), dpi=100)\n",
    "plt.scatter(positive2['test1'], positive2['test2'], c='b',marker='o',label='accepted')\n",
    "plt.scatter(negative2['test1'], negative2['test2'], c='r',marker='x',label='rejected')\n",
    "plt.legend()\n",
    "plt.xlabel('test1')\n",
    "plt.ylabel('test2')\n",
    "plt.show()"
   ]
  },
  {
   "cell_type": "markdown",
   "id": "b6478db5",
   "metadata": {},
   "source": [
    "从散点图可以看出，该问题的决策界限是非线性的，明显比上一个问题要复杂一些，因此我们需要构建一组多项式特征来解决这个问题，即用高次多项式来拟合决策边界"
   ]
  },
  {
   "cell_type": "code",
   "execution_count": 129,
   "id": "265f504b",
   "metadata": {},
   "outputs": [],
   "source": [
    "def feature_mapping(x, y, power, as_ndarray=False):\n",
    "    data = {\"f{}{}\".format(i - p, p): np.power(x, i - p) * np.power(y, p)\n",
    "                for i in np.arange(power + 1)\n",
    "                for p in np.arange(i + 1)\n",
    "            }\n",
    "\n",
    "    if as_ndarray:\n",
    "        return pd.DataFrame(data).values\n",
    "    else:\n",
    "        return pd.DataFrame(data)\n",
    "\n",
    "x1 = np.array(data2.test1)\n",
    "x2 = np.array(data2.test2)"
   ]
  },
  {
   "cell_type": "markdown",
   "id": "11c82537",
   "metadata": {},
   "source": [
    "由于加入了正则化项，假设函数不变，但代价函数与其梯度发生了变化。所以现在我们将对代价函数和其梯度进行修改"
   ]
  },
  {
   "cell_type": "markdown",
   "id": "645242a9",
   "metadata": {},
   "source": [
    "# regularized cost（正则化代价函数）\n",
    "$$J\\left( w \\right)=\\frac{1}{m}\\sum\\limits_{i=1}^{m}{[-{{y}^{(i)}}\\log \\left( {{h}}\\left( {{x}^{(i)}} \\right) \\right)-\\left( 1-{{y}^{(i)}} \\right)\\log \\left( 1-{{h}}\\left( {{x}^{(i)}} \\right) \\right)]}+\\frac{\\lambda }{2m}\\sum\\limits_{j=1}^{n}{w _{j}^{2}}$$"
   ]
  },
  {
   "cell_type": "code",
   "execution_count": null,
   "id": "a6f37f33",
   "metadata": {},
   "outputs": [],
   "source": [
    "X = feature_mapping(x1, x2, power=6, as_ndarray=True)\n",
    "cols = data2.shape[1]  \n",
    "y = np.array(data2.iloc[:,cols-1:cols])\n",
    "theta = np.zeros(28)\n",
    "\n",
    "def regularized_cost(theta, X, y, lamb = 1):\n",
    "    '''正规项不包含theta_0'''\n",
    "    theta_except_0 = theta[1:]\n",
    "    reg = (lamb / (2 * len(X))) * np.sum(np.power(theta_except_0, 2))\n",
    "    return cost(theta,X,y) + reg"
   ]
  },
  {
   "cell_type": "markdown",
   "id": "1e027e99",
   "metadata": {},
   "source": [
    "# 正则化梯度"
   ]
  },
  {
   "cell_type": "markdown",
   "id": "0ebc6c80",
   "metadata": {},
   "source": [
    "请注意等式中的\"reg\" 项。还注意到另外的一个“学习率”参数。这是一种超参数，用来控制正则化项。现在我们需要添加正则化梯度函数："
   ]
  },
  {
   "cell_type": "markdown",
   "id": "d6fdde87",
   "metadata": {},
   "source": [
    "如果我们要使用梯度下降法令这个代价函数最小化，因为我们未对${{w }_{0}}$ 进行正则化，所以梯度下降算法将分两种情形：\n",
    "\n",
    "\n",
    "\\begin{align}\n",
    "  & 重复\\text{ }直到\\text{ }收敛\\text{ }\\!\\!\\{\\!\\!\\text{ } \\\\ \n",
    " & \\text{     }{{w }_{0}}:={{w }_{0}}-a\\frac{1}{m}\\sum\\limits_{i=1}^{m}{[{{h}}\\left( {{x}^{(i)}} \\right)-{{y}^{(i)}}]x_{_{0}}^{(i)}} \\\\ \n",
    " & \\text{     }{{w }_{j}}:={{w }_{j}}-a\\frac{1}{m}\\sum\\limits_{i=1}^{m}{[{{h}}\\left( {{x}^{(i)}} \\right)-{{y}^{(i)}}]x_{j}^{(i)}}+\\frac{\\lambda }{m}{{w }_{j}} \\\\ \n",
    " & \\text{          }\\!\\!\\}\\!\\!\\text{ } \\\\ \n",
    " & 重复 \\\\ \n",
    "\\end{align}\n",
    "\n",
    "对上面的算法中 j=1,2,...,n 时的更新式子进行调整可得： \n",
    "${{w }_{j}}:={{w }_{j}}(1-a\\frac{\\lambda }{m})-a\\frac{1}{m}\\sum\\limits_{i=1}^{m}{({{h}_{w }}\\left( {{x}^{(i)}} \\right)-{{y}^{(i)}})x_{j}^{(i)}}$"
   ]
  },
  {
   "cell_type": "code",
   "execution_count": 131,
   "id": "754bb0cb",
   "metadata": {},
   "outputs": [
    {
     "data": {
      "text/plain": [
       "matrix([[8.47457627e-03],\n",
       "        [1.87880932e-02],\n",
       "        [7.77711864e-05],\n",
       "        [5.03446395e-02],\n",
       "        [1.15013308e-02],\n",
       "        [3.76648474e-02],\n",
       "        [1.83559872e-02],\n",
       "        [7.32393391e-03],\n",
       "        [8.19244468e-03],\n",
       "        [2.34764889e-02],\n",
       "        [3.93486234e-02],\n",
       "        [2.23923907e-03],\n",
       "        [1.28600503e-02],\n",
       "        [3.09593720e-03],\n",
       "        [3.93028171e-02],\n",
       "        [1.99707467e-02],\n",
       "        [4.32983232e-03],\n",
       "        [3.38643902e-03],\n",
       "        [5.83822078e-03],\n",
       "        [4.47629067e-03],\n",
       "        [3.10079849e-02],\n",
       "        [3.10312442e-02],\n",
       "        [1.09740238e-03],\n",
       "        [6.31570797e-03],\n",
       "        [4.08503006e-04],\n",
       "        [7.26504316e-03],\n",
       "        [1.37646175e-03],\n",
       "        [3.87936363e-02]])"
      ]
     },
     "execution_count": 131,
     "metadata": {},
     "output_type": "execute_result"
    }
   ],
   "source": [
    "def gradient1(theta, X, y):\n",
    "    theta = np.matrix(theta)\n",
    "    X = np.matrix(X)\n",
    "    y = np.matrix(y)\n",
    "    return  X.T * (sigmoid(X * theta.T) - y) / len(X)\n",
    "\n",
    "def regularized_gradient(theta, X, y, lam=1):\n",
    "    theta_except_0 = theta[1:]\n",
    "    reg_theta = (lam / len(X)) * theta_except_0\n",
    "    #将theta_0和theta_j(j≠0)两种情况拼接到一个数组中\n",
    "    reg_term = np.concatenate([np.array([0]), reg_theta])\n",
    "    reg_term = np.matrix(reg_term)\n",
    "    return gradient1(theta, X, y) + reg_term.T\n",
    "regularized_gradient(theta, X, y, lam=1)\n"
   ]
  },
  {
   "cell_type": "code",
   "execution_count": 132,
   "id": "a330f62a",
   "metadata": {
    "scrolled": true
   },
   "outputs": [
    {
     "data": {
      "text/plain": [
       "(array([ 1.27271026,  0.62529965,  1.18111686, -2.01987399, -0.9174319 ,\n",
       "        -1.43166929,  0.12393228, -0.36553118, -0.35725403, -0.17516291,\n",
       "        -1.45817009, -0.05098418, -0.61558553, -0.27469165, -1.19271298,\n",
       "        -0.24217841, -0.20603298, -0.04466178, -0.27778951, -0.29539513,\n",
       "        -0.45645981, -1.04319155,  0.02779373, -0.29244871,  0.01555761,\n",
       "        -0.32742406, -0.1438915 , -0.92467487]),\n",
       " 32,\n",
       " 1)"
      ]
     },
     "execution_count": 132,
     "metadata": {},
     "output_type": "execute_result"
    }
   ],
   "source": [
    "res2 = opt.fmin_tnc(func=regularized_cost, x0=theta, fprime=regularized_gradient, args=(X, y))\n",
    "res2"
   ]
  },
  {
   "cell_type": "markdown",
   "id": "d72ddd77",
   "metadata": {},
   "source": [
    "看看准确度怎么样！！"
   ]
  },
  {
   "cell_type": "code",
   "execution_count": 133,
   "id": "17734b9c",
   "metadata": {},
   "outputs": [
    {
     "name": "stdout",
     "output_type": "stream",
     "text": [
      "              precision    recall  f1-score   support\n",
      "\n",
      "           0       0.90      0.75      0.82        60\n",
      "           1       0.78      0.91      0.84        58\n",
      "\n",
      "    accuracy                           0.83       118\n",
      "   macro avg       0.84      0.83      0.83       118\n",
      "weighted avg       0.84      0.83      0.83       118\n",
      "\n"
     ]
    }
   ],
   "source": [
    "def predict1(theta , X):\n",
    "    theta = np.asarray(theta)\n",
    "    X = np.asarray(X)\n",
    "    prob = sigmoid(X @ theta.T)\n",
    "    return (prob >= 0.5).astype(int)\n",
    "\n",
    "final_theta = res2[0]\n",
    "y_pred = predict1(final_theta, X)\n",
    "print(classification_report(y, y_pred))"
   ]
  },
  {
   "cell_type": "markdown",
   "id": "5a820651",
   "metadata": {},
   "source": [
    "# 寻找并画出决策边界"
   ]
  },
  {
   "cell_type": "code",
   "execution_count": 134,
   "id": "059111ca",
   "metadata": {},
   "outputs": [
    {
     "data": {
      "image/png": "[encoded data removed]",
      "text/plain": [
       "<Figure size 1200x800 with 1 Axes>"
      ]
     },
     "metadata": {},
     "output_type": "display_data"
    }
   ],
   "source": [
    "\n",
    "\n",
    "def find_decision_boundary(power, theta):\n",
    "    t1 = np.linspace(-1, 1.5, 1000)\n",
    "    t2 = np.linspace(-1, 1.5, 1000)  \n",
    "\n",
    "    cordinates = [(x, y) for x in t1 for y in t2]\n",
    "    x_cord, y_cord = zip(*cordinates)\n",
    "    mapped_cord = feature_mapping(x_cord, y_cord, power)\n",
    "\n",
    "    inner_product = mapped_cord @ theta\n",
    "    decision = mapped_cord[np.abs(inner_product) < 0.001]  #保留接近0的数据用于绘图\n",
    "\n",
    "    return decision.f10, decision.f01\n",
    "\n",
    "#画出据决策边界\n",
    "power = 6\n",
    "x, y = find_decision_boundary(power,final_theta)\n",
    "fig = plt.figure(figsize=(12,8), dpi=100)\n",
    "plt.scatter(positive2['test1'], positive2['test2'], c='b',marker='o',label='accepted')\n",
    "plt.scatter(negative2['test1'], negative2['test2'], c='r',marker='x',label='rejected')\n",
    "plt.scatter(x, y, c = 'purple')\n",
    "plt.legend()\n",
    "plt.xlabel('test1')\n",
    "plt.ylabel('test2')\n",
    "plt.show()"
   ]
  }
 ],
 "metadata": {
  "kernelspec": {
   "display_name": "Python 3 (ipykernel)",
   "language": "python",
   "name": "python3"
  },
  "language_info": {
   "codemirror_mode": {
    "name": "ipython",
    "version": 3
   },
   "file_extension": ".py",
   "mimetype": "text/x-python",
   "name": "python",
   "nbconvert_exporter": "python",
   "pygments_lexer": "ipython3",
   "version": "3.11.3"
  }
 },
 "nbformat": 4,
 "nbformat_minor": 5
}
